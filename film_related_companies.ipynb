{
 "cells": [
  {
   "cell_type": "markdown",
   "metadata": {},
   "source": [
    "# 选择数据来源"
   ]
  },
  {
   "cell_type": "markdown",
   "metadata": {},
   "source": [
    "- 时光网\n",
    "    - http://movie.mtime.com/262895/details.html#company \n",
    "    - 不考虑，数据不全，没有出品方\n",
    "- 灯塔专业版（淘票票专业版）\n",
    "    - https://h5.m.taobao.com/app/movie/pages/show-info/index.html?showId=1274916&infoType=relatedCompany\n",
    "    - 可以考虑，有一定爬取难度\n",
    "- 猫眼专业版\n",
    "    - http://piaofang.maoyan.com/movie/1217123\n",
    "    - 可以考虑，有一定爬取难度\n",
    "- 百度百科\n",
    "    - https://baike.baidu.com/item/%E5%A4%BA%E5%86%A0/24272902?fr=aladdin#6\n",
    "    - 不考虑，不一定每部电影都有相关公司数据"
   ]
  },
  {
   "cell_type": "markdown",
   "metadata": {},
   "source": [
    "# 要导入的模块"
   ]
  },
  {
   "cell_type": "code",
   "execution_count": 1,
   "metadata": {},
   "outputs": [],
   "source": [
    "import requests, re\n",
    "from bs4 import BeautifulSoup"
   ]
  },
  {
   "cell_type": "markdown",
   "metadata": {},
   "source": [
    "# 全局设置"
   ]
  },
  {
   "cell_type": "code",
   "execution_count": 2,
   "metadata": {},
   "outputs": [],
   "source": [
    "\n",
    "user_agent = 'Mozilla/5.0 (Macintosh; Intel Mac OS X 10_15_3) AppleWebKit/537.36 (KHTML, like Gecko) Chrome/79.0.3945.130 Safari/537.36'\n",
    "\n",
    "headers = {\n",
    "    'User-Agent': user_agent\n",
    "}\n",
    "\n",
    "session = requests.session()\n",
    "\n",
    "\n",
    "# 预设两部电影，国内和国外\n",
    "film_name_china = '夺冠'\n",
    "film_name_abroad = '阿凡达'"
   ]
  },
  {
   "cell_type": "markdown",
   "metadata": {},
   "source": [
    "# 猫眼专业版"
   ]
  },
  {
   "cell_type": "markdown",
   "metadata": {},
   "source": [
    "## 获取具有film_name的电影列表"
   ]
  },
  {
   "cell_type": "code",
   "execution_count": 6,
   "metadata": {},
   "outputs": [
    {
     "data": {
      "text/plain": [
       "<Response [200]>"
      ]
     },
     "execution_count": 6,
     "metadata": {},
     "output_type": "execute_result"
    }
   ],
   "source": [
    "film_list_url = 'https://maoyan.com/query?kw=' + film_name_china\n",
    "film_list_res = session.get(url=film_list_url, headers=headers)\n",
    "film_list_res"
   ]
  },
  {
   "cell_type": "markdown",
   "metadata": {},
   "source": [
    "## 默认取列表第一部电影的ID"
   ]
  },
  {
   "cell_type": "code",
   "execution_count": 7,
   "metadata": {
    "scrolled": true
   },
   "outputs": [
    {
     "data": {
      "text/plain": [
       "'1217123'"
      ]
     },
     "execution_count": 7,
     "metadata": {},
     "output_type": "execute_result"
    }
   ],
   "source": [
    "film_list_soup = BeautifulSoup(film_list_res.text, 'html.parser')\n",
    "film_id = film_list_soup.find('div', class_='movie-item').find('a')['href']\n",
    "film_id = re.search('\\d+', film_id).group()\n",
    "film_id"
   ]
  },
  {
   "cell_type": "markdown",
   "metadata": {},
   "source": [
    "## 获取参与公司列表"
   ]
  },
  {
   "cell_type": "code",
   "execution_count": 8,
   "metadata": {},
   "outputs": [
    {
     "data": {
      "text/plain": [
       "<Response [200]>"
      ]
     },
     "execution_count": 8,
     "metadata": {},
     "output_type": "execute_result"
    }
   ],
   "source": [
    "companies_list_url = 'http://piaofang.maoyan.com/movie/' + film_id + '/companylist'\n",
    "companies_list_res = session.get(url=companies_list_url, headers=headers)\n",
    "companies_list_res"
   ]
  },
  {
   "cell_type": "code",
   "execution_count": 9,
   "metadata": {},
   "outputs": [
    {
     "data": {
      "text/plain": [
       "4"
      ]
     },
     "execution_count": 9,
     "metadata": {},
     "output_type": "execute_result"
    }
   ],
   "source": [
    "companies_list_soup = BeautifulSoup(companies_list_res.text, 'html.parser')\n",
    "companies_items = companies_list_soup.find_all('dl', class_='panel-main category')\n",
    "len(companies_items)"
   ]
  },
  {
   "cell_type": "code",
   "execution_count": 10,
   "metadata": {},
   "outputs": [],
   "source": [
    "film_related_companies_dict = dict()"
   ]
  },
  {
   "cell_type": "code",
   "execution_count": 11,
   "metadata": {},
   "outputs": [
    {
     "data": {
      "text/plain": [
       "{'出品': ['北京嘉映春天影业有限公司',\n",
       "  '我们制作有限公司',\n",
       "  '华夏电影发行有限责任公司',\n",
       "  '欢喜传媒集团有限公司',\n",
       "  '阿里巴巴影业（北京）有限公司',\n",
       "  '联瑞（上海）影业有限公司',\n",
       "  '中国电影股份有限公司',\n",
       "  '峨眉电影集团有限公司',\n",
       "  '浙江影视（集团）有限公司',\n",
       "  '文投控股股份有限公司',\n",
       "  '浙江省文化产业投资集团有限公司'],\n",
       " '联合出品': ['汉鼎宇佑传媒科技有限公司',\n",
       "  '中央纪委中国方正出版社',\n",
       "  '拍拍文化传媒（无锡）有限公司',\n",
       "  '邵氏兄弟国际影业有限公司',\n",
       "  '上海三次元影业有限公司',\n",
       "  '上海拾谷影业有限公司',\n",
       "  '好孩子制作有限公司',\n",
       "  '天津猫眼微影文化传媒有限公司',\n",
       "  '天下一电影制作有限公司',\n",
       "  '芳草地影视（北京）有限公司',\n",
       "  '浙江横店影业有限公司',\n",
       "  '霍尔果斯金逸影业有限公司',\n",
       "  '无限频率影视有限公司',\n",
       "  '北京完美影视传媒有限责任公司',\n",
       "  '天津天影电影制片有限公司',\n",
       "  '东海电影集团有限公司',\n",
       "  '耳东文化（北京）有限公司',\n",
       "  '北京世纪蜘蛛文化传播有限公司',\n",
       "  '北京歌亚时代投资管理有限公司',\n",
       "  '天津磨铁娱乐有限公司',\n",
       "  '上海复逸文化传播有限公司',\n",
       "  '西咸新区秦汉野马文化产业发展有限公司',\n",
       "  '盛耀蔚莱（北京）国际文化发展有限公司',\n",
       "  '嘉映影业有限公司',\n",
       "  '北京嘉映文化传媒有限公司',\n",
       "  '喀什嘉映文化传媒有限公司',\n",
       "  '亚博思文化传媒（北京）有限公司',\n",
       "  '天津玖焱文化传媒有限公司',\n",
       "  '北京盛煜天桐文化传播有限公司',\n",
       "  '华文映像（北京）影业有限公司',\n",
       "  '中铭盛世（深圳）影业集团有限公司'],\n",
       " '发行': ['上海淘票票影视文化有限公司',\n",
       "  '厦门联瑞影业有限公司',\n",
       "  '华夏电影发行有限责任公司',\n",
       "  '我们亚博思电影发行（北京）有限公司',\n",
       "  '喀什嘉映文化传媒有限公司',\n",
       "  '浙江横店影业有限公司',\n",
       "  '联瑞（上海）影业有限公司',\n",
       "  '北京新影联影业有限责任公司',\n",
       "  '上海红星美凯龙影业发展有限公司',\n",
       "  '广州市光美文化有限公司'],\n",
       " '其他': ['薯片文化传播发展（北京）有限责任公司（宣传公司）', '东阳伯乐影视服务有限公司（宣传公司）']}"
      ]
     },
     "execution_count": 11,
     "metadata": {},
     "output_type": "execute_result"
    }
   ],
   "source": [
    "for companies_item in companies_items:\n",
    "    key = companies_item.find('span', class_='title-name').text\n",
    "    value = list()\n",
    "    companies = companies_item.find_all('p', class_= 'p-item-name')\n",
    "    for company in companies:\n",
    "        value.append(company.text)\n",
    "    film_related_companies_dict[key] =  value\n",
    "    \n",
    "film_related_companies_dict"
   ]
  },
  {
   "cell_type": "markdown",
   "metadata": {},
   "source": [
    "## 封装"
   ]
  },
  {
   "cell_type": "code",
   "execution_count": 12,
   "metadata": {},
   "outputs": [],
   "source": [
    "# 输入电影名称\n",
    "# 输出电影相关企业dict\n",
    "def get_film_related_companies(film_name):\n",
    "    film_list_url = 'https://maoyan.com/query?kw=' + film_name\n",
    "    film_list_res = session.get(url=film_list_url, headers=headers)\n",
    "    film_list_soup = BeautifulSoup(film_list_res.text, 'html.parser')\n",
    "    film_id = film_list_soup.find('div', class_='movie-item').find('a')['href']\n",
    "    film_id = re.search('\\d+', film_id).group()\n",
    "    \n",
    "    companies_list_url = 'http://piaofang.maoyan.com/movie/' + film_id + '/companylist'\n",
    "    companies_list_res = session.get(url=companies_list_url, headers=headers)\n",
    "    companies_list_soup = BeautifulSoup(companies_list_res.text, 'html.parser')\n",
    "    companies_items = companies_list_soup.find_all('dl', class_='panel-main category')\n",
    "    \n",
    "    film_related_companies_dict = dict()\n",
    "    for companies_item in companies_items:\n",
    "        key = companies_item.find('span', class_='title-name').text\n",
    "        value = list()\n",
    "        companies = companies_item.find_all('p', class_= 'p-item-name')\n",
    "        for company in companies:\n",
    "            value.append(company.text)\n",
    "        film_related_companies_dict[key] =  value\n",
    "    \n",
    "    return film_related_companies_dict"
   ]
  },
  {
   "cell_type": "code",
   "execution_count": 13,
   "metadata": {},
   "outputs": [
    {
     "data": {
      "text/plain": [
       "{'制作': ['北京真乐道文化传播有限公司'],\n",
       " '出品': ['上海欢神喜佑文化有限公司',\n",
       "  '欢喜传媒集团有限公司',\n",
       "  '北京真乐道文化传播有限公司',\n",
       "  '浙江横店影业有限公司',\n",
       "  '真乐道（上海）影视有限公司',\n",
       "  '天津猫眼微影文化传媒有限公司',\n",
       "  '北京欢喜首映文化有限公司',\n",
       "  '欢欢喜喜（天津）文化投资有限公司',\n",
       "  '墨客行影业（北京）有限公司',\n",
       "  '广东昇格传媒股份有限公司'],\n",
       " '联合出品': ['中国电影股份有限公司',\n",
       "  '华夏电影发行有限责任公司',\n",
       "  '英皇影业有限公司',\n",
       "  '上海猫眼影业有限公司',\n",
       "  '耳东影业（北京）有限公司',\n",
       "  '华文映像（北京）影业有限公司',\n",
       "  '上海众合千澄影视文化传媒有限公司',\n",
       "  '天津玖焱文化传媒有限公司',\n",
       "  '之升（上海）影业有限公司',\n",
       "  '耀莱影视文化传媒有限公司',\n",
       "  '北京长城沃美电影院线有限公司',\n",
       "  '上海真乐道影视文化工作室',\n",
       "  '中铭盛世（深圳）影业集团有限公司'],\n",
       " '发行': ['浙江横店影业有限公司', '北京卓然影业有限公司', '广东昇格传媒股份有限公司'],\n",
       " '联合发行': ['中国电影股份有限公司',\n",
       "  '北京真乐道文化传播有限公司',\n",
       "  '时代三和文化投资（北京）股份有限公司',\n",
       "  '北京欢喜首映文化有限公司',\n",
       "  '华文风泽（北京）影视发行有限公司',\n",
       "  '北京耀影电影发行有限公司'],\n",
       " '其他': ['北京麦特文化发展有限公司（独家营销机构）']}"
      ]
     },
     "execution_count": 13,
     "metadata": {},
     "output_type": "execute_result"
    }
   ],
   "source": [
    "get_film_related_companies('囧妈')"
   ]
  },
  {
   "cell_type": "code",
   "execution_count": 14,
   "metadata": {},
   "outputs": [
    {
     "data": {
      "text/plain": [
       "{'制作': ['天天影画电影制作有限公司（摄制）', '北京丹海咨询有限公司（制作）'],\n",
       " '出品': ['上海博纳文化传媒有限公司', '东方影业出品有限公司'],\n",
       " '联合出品': ['北京博纳影业集团有限公司',\n",
       "  '上海天马联合影视文化有限公司',\n",
       "  '万达影视传媒有限公司',\n",
       "  '天津猫眼微影文化传媒有限公司',\n",
       "  '太阳娱乐文化有限公司',\n",
       "  '耳东文化（北京）有限公司',\n",
       "  '上海复逸文化传播有限公司',\n",
       "  '上海鸣肇影视文化有限公司',\n",
       "  '佛山东天影视文化有限公司',\n",
       "  '天马影联影视文化（北京）有限公司',\n",
       "  '博纳影视娱乐有限公司'],\n",
       " '发行': ['上海博纳文化传媒有限公司', '天津猫眼微影文化传媒有限公司'],\n",
       " '联合发行': ['华夏电影发行有限责任公司', '上海复逸文化传播有限公司'],\n",
       " '其他': ['北京蓝天黑马文化传媒有限公司（宣传公司）', '北京六合世纪文化传媒有限公司（视频物料制作）']}"
      ]
     },
     "execution_count": 14,
     "metadata": {},
     "output_type": "execute_result"
    }
   ],
   "source": [
    "get_film_related_companies('叶问4')"
   ]
  },
  {
   "cell_type": "code",
   "execution_count": 15,
   "metadata": {},
   "outputs": [
    {
     "data": {
      "text/plain": [
       "{'制作': ['TSG Entertainment（联合制作）'],\n",
       " '出品': ['美国狮门影片公司', '美国二十世纪福斯电影公司'],\n",
       " '联合出品': ['Avatar 2'],\n",
       " '发行': ['美国二十世纪福斯电影公司', '二十世纪福斯荷兰分公司', '20世纪福克斯阿根廷分公司', '二十世纪福斯德国分公司']}"
      ]
     },
     "execution_count": 15,
     "metadata": {},
     "output_type": "execute_result"
    }
   ],
   "source": [
    "get_film_related_companies('阿凡达')"
   ]
  },
  {
   "cell_type": "code",
   "execution_count": null,
   "metadata": {},
   "outputs": [],
   "source": []
  }
 ],
 "metadata": {
  "kernelspec": {
   "display_name": "Python 3",
   "language": "python",
   "name": "python3"
  },
  "language_info": {
   "codemirror_mode": {
    "name": "ipython",
    "version": 3
   },
   "file_extension": ".py",
   "mimetype": "text/x-python",
   "name": "python",
   "nbconvert_exporter": "python",
   "pygments_lexer": "ipython3",
   "version": "3.7.4"
  },
  "toc": {
   "base_numbering": 1,
   "nav_menu": {},
   "number_sections": true,
   "sideBar": true,
   "skip_h1_title": false,
   "title_cell": "Table of Contents",
   "title_sidebar": "Contents",
   "toc_cell": false,
   "toc_position": {},
   "toc_section_display": true,
   "toc_window_display": true
  }
 },
 "nbformat": 4,
 "nbformat_minor": 2
}
